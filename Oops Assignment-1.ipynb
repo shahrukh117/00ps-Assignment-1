{
 "cells": [
  {
   "cell_type": "markdown",
   "id": "551a62b9-d3fb-4310-b75e-69c7a1c0281c",
   "metadata": {},
   "source": [
    "### Q1. Explain Class and Object with respect to Object-Oriented Programming. Give a suitable example."
   ]
  },
  {
   "cell_type": "markdown",
   "id": "43adcd57-e449-422b-ad66-31d1bf0fd1bf",
   "metadata": {},
   "source": [
    "### Class\n",
    "A class is a collection of objects or you can say it is a blueprint of objects defining the common attributes and behavior. Now the question arises, how do you do that?\n",
    "\n",
    "Well, it logically groups the data in such a way that code reusability becomes easy. I can give you a real-life example- think of an office going ’employee’ as a class and all the attributes related to it like ’emp_name’, ’emp_age’, ’emp_salary’, ’emp_id’ as the objects in Python. Let us see from the coding perspective that how do you instantiate a class and an object."
   ]
  },
  {
   "cell_type": "markdown",
   "id": "0f3ffdb2-394c-4bfa-874d-5e4245d84ad6",
   "metadata": {},
   "source": [
    "Class is defined under a “Class” Keyword."
   ]
  },
  {
   "cell_type": "markdown",
   "id": "d38c397f-06e3-4d9c-9f72-1fef0b75f605",
   "metadata": {},
   "source": [
    "### Example"
   ]
  },
  {
   "cell_type": "code",
   "execution_count": 4,
   "id": "be70eadc-abaa-47a2-8f9d-212babfe2883",
   "metadata": {},
   "outputs": [],
   "source": [
    "class class1():\n",
    "    pass\n",
    "    \n",
    "    # class 1 is the name of the class"
   ]
  },
  {
   "cell_type": "markdown",
   "id": "514f8ab4-8563-4744-a493-ecc63e7d23e8",
   "metadata": {},
   "source": [
    "#### Objects:"
   ]
  },
  {
   "cell_type": "markdown",
   "id": "417fe04c-488f-4522-8f23-c8fd27952cbb",
   "metadata": {},
   "source": [
    "Objects are an instance of a class. It is an entity that has state and behavior. In a nutshell, it is an instance of a class that can access the data"
   ]
  },
  {
   "cell_type": "code",
   "execution_count": 6,
   "id": "24c7d8aa-5d94-4325-a241-b4aba8bac93b",
   "metadata": {},
   "outputs": [],
   "source": [
    "obj = class1() # Here obj is the “object “ of class1."
   ]
  },
  {
   "cell_type": "code",
   "execution_count": 8,
   "id": "8ec292e1-1ab5-4c24-90c7-1e467155ba70",
   "metadata": {},
   "outputs": [
    {
     "name": "stdout",
     "output_type": "stream",
     "text": [
      "{'fname': 'harry', 'lname': 'jaction', 'salary': 44000}\n"
     ]
    }
   ],
   "source": [
    "class Employee:\n",
    "    \n",
    "    def __init__(self, fname, lname, salary):  # creating a function\n",
    "        self.fname = fname  # self is an instance of a class\n",
    "        self.lname = lname\n",
    "        self.salary = salary\n",
    "        \n",
    "emp1 = Employee('harry', 'jaction', 44000)  # creating objects\n",
    "emp2 = Employee('rohan', 'das', 44000) \n",
    "print(emp1.__dict__) #Prints dictionary"
   ]
  },
  {
   "cell_type": "markdown",
   "id": "c5731235-b817-44ad-9070-b97b464d00ec",
   "metadata": {},
   "source": [
    "### Explanation: \n",
    "’emp1′ and ’emp2′ are the objects that are instantiated against the class ’employee’.Here, the word (__dict__) is a “dictionary” which prints all the values of object ‘emp1’ against the given parameter (fname, lname, salary).(__init__) acts like a constructor that is invoked whenever an object is created."
   ]
  },
  {
   "cell_type": "markdown",
   "id": "1cf76674-8cde-4a57-9f60-001b05d21136",
   "metadata": {},
   "source": [
    "### Q2. Name the four pillars of OOPs."
   ]
  },
  {
   "cell_type": "markdown",
   "id": "c605e537-74d6-4591-8341-00fb8b9e1d0d",
   "metadata": {},
   "source": [
    "The four pillars of  OOPs (object-oriented programming) are \n",
    "\n",
    "data abstraction\n",
    "\n",
    "encapsulation\n",
    "\n",
    "inheritance\n",
    "\n",
    "polymorphism. "
   ]
  },
  {
   "cell_type": "markdown",
   "id": "25d32fea-403f-4ffb-b1e9-ca1b3e36dd5c",
   "metadata": {},
   "source": [
    "### Q3. Explain why the __init__() function is used. Give a suitable example."
   ]
  },
  {
   "cell_type": "code",
   "execution_count": null,
   "id": "cf0a1d2f-69a6-40d3-852c-4cea701ace6e",
   "metadata": {},
   "outputs": [],
   "source": []
  },
  {
   "cell_type": "markdown",
   "id": "e02b7943-87cf-4c52-8dc6-1dd655cefb0b",
   "metadata": {},
   "source": [
    "In Python, __init__ is a special method known as the constructor. It is automatically called when a new instance (object) of a class is created. The __init__ method allows you to initialize the attributes (variables) of an object."
   ]
  },
  {
   "cell_type": "code",
   "execution_count": 1,
   "id": "4354e155-242e-4af1-bb91-c7bd32ad39c1",
   "metadata": {},
   "outputs": [
    {
     "name": "stdout",
     "output_type": "stream",
     "text": [
      "Name: John\n",
      "Age: 25\n"
     ]
    }
   ],
   "source": [
    "# A Sample class with init method\n",
    "class MyClass:\n",
    "     # definition for init method or constructor\n",
    "    def __init__(self, name, age):\n",
    "        self.name = name\n",
    "        self.age = age\n",
    "        \n",
    "# Random member function\n",
    "    def display_info(self):\n",
    "        print(f\"Name: {self.name}\")\n",
    "        print(f\"Age: {self.age}\")\n",
    "\n",
    "# Creating an instance/object of MyClass\n",
    "obj = MyClass(\"John\", 25)\n",
    "\n",
    "# Accessing attributes and calling methods\n",
    "obj.display_info()"
   ]
  },
  {
   "cell_type": "code",
   "execution_count": 2,
   "id": "82a4518e-b5b0-4dad-a301-89b501031b5b",
   "metadata": {},
   "outputs": [
    {
     "name": "stdout",
     "output_type": "stream",
     "text": [
      "Preeti Srivastava  teaches  Computer Science\n"
     ]
    }
   ],
   "source": [
    "class Teacher:\n",
    "    # definition for init method or constructor\n",
    "    def __init__(self, name, subject):\n",
    "        self.name = name\n",
    "        self.subject = subject\n",
    "     # Random member function\n",
    "    def show(self):\n",
    "        print(self.name, \" teaches \", self.subject)\n",
    "T = Teacher('Preeti Srivastava', \"Computer Science\")   # init is invoked here\n",
    "T.show()"
   ]
  },
  {
   "cell_type": "markdown",
   "id": "950a8ee1-2940-4ef7-bf3f-c7e77f4b8cae",
   "metadata": {},
   "source": [
    "### Q4. Why self is used in OOPs?"
   ]
  },
  {
   "cell_type": "markdown",
   "id": "48f0c81e-d7d3-4022-9b71-e702df472c17",
   "metadata": {},
   "source": [
    "The self is used to represent the instance of the class. With this keyword, you can access the attributes and methods of the class in python. It binds the attributes with the given arguments. The reason why we use self is that Python does not use the ‘@’ syntax to refer to instance attributes.\n",
    "self is also used to refer to a variable field within the class.\n",
    "\n"
   ]
  },
  {
   "cell_type": "code",
   "execution_count": 22,
   "id": "84dd3a47-96ec-4723-b7b3-d99f53a711ac",
   "metadata": {},
   "outputs": [],
   "source": [
    "class Person:\n",
    "    \n",
    " \n",
    "    # name made in constructor\n",
    "    def __init__(self, john):\n",
    "        \n",
    "        self.name = john\n",
    " \n",
    "    def get_person_name(self):\n",
    "        \n",
    "        return self.name\n",
    "    \n",
    "obj = Person(\"john\")"
   ]
  },
  {
   "cell_type": "code",
   "execution_count": 23,
   "id": "46fbb942-fdef-469a-aa8d-754912a88f4a",
   "metadata": {},
   "outputs": [
    {
     "data": {
      "text/plain": [
       "'john'"
      ]
     },
     "execution_count": 23,
     "metadata": {},
     "output_type": "execute_result"
    }
   ],
   "source": [
    "obj.get_person_name()"
   ]
  },
  {
   "cell_type": "markdown",
   "id": "cbb2b29f-cd2b-4de3-975e-7b6eebd5c7ad",
   "metadata": {},
   "source": [
    "In the above example, self refers to the name variable of the entire Person class. Here, if we have a variable within a method, self will not work. That variable is simply existent only while that method is running and hence, is local to that method. "
   ]
  },
  {
   "cell_type": "markdown",
   "id": "43de6754-2a59-46a0-abc4-94d1c2aabe12",
   "metadata": {},
   "source": [
    "### Q5. What is inheritance? Give an example for each type of inheritance."
   ]
  },
  {
   "cell_type": "markdown",
   "id": "a383dcf4-5656-4aef-b48a-e28907f48d7e",
   "metadata": {},
   "source": [
    "Inheritance is a process of obtaining properties and characteristics(variables and methods) of another class. In this hierarchical order, the class which inherits another class is called subclass or child class, and the other class is the parent class.\n",
    "\n",
    "Inheritance is categorized based on the hierarchy followed and the number of parent classes and subclasses involved.\n",
    "\n",
    "There are five types of inheritances:\n",
    "\n",
    "Single Inheritance\n",
    "\n",
    "Multiple Inheritance\n",
    "\n",
    "Multilevel Inheritance\n",
    "\n",
    "Hierarchical Inheritance\n",
    "\n",
    "Hybrid Inheritance"
   ]
  },
  {
   "cell_type": "markdown",
   "id": "35724e38-fa31-491b-b49c-a0f3191b6f17",
   "metadata": {},
   "source": [
    "#### Single Inheritance\n",
    "Single inheritance enables a derived class to inherit properties from a single parent class, thus enabling code reusability and the addition of new features to existing code.\n",
    "\n"
   ]
  },
  {
   "cell_type": "code",
   "execution_count": 24,
   "id": "ccf0dbdb-6b1d-41d5-9c14-7cf3f400b89c",
   "metadata": {},
   "outputs": [
    {
     "name": "stdout",
     "output_type": "stream",
     "text": [
      "This function is in parent class.\n",
      "This function is in child class.\n"
     ]
    }
   ],
   "source": [
    "# Base class\n",
    "class Parent:\n",
    "    def func1(self):\n",
    "        print(\"This function is in parent class.\")\n",
    " \n",
    " # Derived class\n",
    " \n",
    " \n",
    "class Child(Parent):\n",
    "    def func2(self):\n",
    "        print(\"This function is in child class.\")\n",
    " \n",
    " \n",
    "# Driver's code\n",
    "object = Child()\n",
    "object.func1()\n",
    "object.func2()"
   ]
  },
  {
   "cell_type": "markdown",
   "id": "419ee764-dafe-495a-a810-181310cba2fd",
   "metadata": {},
   "source": [
    "### Multiple Inheritance: \n",
    "When a class can be derived from more than one base class this type of inheritance is called multiple inheritances. In multiple inheritances, all the features of the base classes are inherited into the derived class. "
   ]
  },
  {
   "cell_type": "code",
   "execution_count": 34,
   "id": "bd62bfa9-6470-4bed-a451-d87ed1799064",
   "metadata": {},
   "outputs": [
    {
     "name": "stdout",
     "output_type": "stream",
     "text": [
      "Hey there, you are in the child class\n",
      "first number is :  10\n",
      "second number is :  5\n"
     ]
    }
   ],
   "source": [
    "#parent class 1\n",
    "class A:\n",
    "    demo1=0\n",
    "    def fun1(self):\n",
    "        print(self.demo1)\n",
    "\n",
    "#parent class 2\n",
    "class B:\n",
    "    demo2=0\n",
    "    def fun2(self):\n",
    "        print(self.demo2)\n",
    "\n",
    "#child class\n",
    "class C(A, B):\n",
    "    def fun3(self):\n",
    "        print(\"Hey there, you are in the child class\")\n",
    "        print(\"first number is : \",c.demo1)\n",
    "        print(\"second number is : \",c.demo2)\n",
    "\n",
    "# Main code\n",
    "c = C()\n",
    "c.demo1 = 10\n",
    "c.demo2 = 5\n",
    "c.fun3()\n"
   ]
  },
  {
   "cell_type": "code",
   "execution_count": 28,
   "id": "7a347fe7-7639-4aae-bb9a-a9648762449d",
   "metadata": {},
   "outputs": [
    {
     "name": "stdout",
     "output_type": "stream",
     "text": [
      "Father : Ram\n",
      "Mother : Sita\n"
     ]
    }
   ],
   "source": [
    "\n",
    "# Python program to demonstrate\n",
    "# multiple inheritance\n",
    " \n",
    "# Base class1\n",
    "class Mother:\n",
    "    mothername = \"\"\n",
    " \n",
    "    def mother(self):\n",
    "        print(self.mothername)\n",
    " \n",
    " # Base class2\n",
    " \n",
    " \n",
    "class Father:\n",
    "    fathername = \"\"\n",
    " \n",
    "    def father(self):\n",
    "        print(self.fathername)\n",
    " \n",
    " # Derived class\n",
    " \n",
    " \n",
    "class Son(Mother, Father):\n",
    "    def parents(self):\n",
    "        print(\"Father :\", self.fathername)\n",
    "        print(\"Mother :\", self.mothername)\n",
    " \n",
    " \n",
    "# Driver's code\n",
    "s1 = Son()\n",
    "s1.fathername = \"Ram\"\n",
    "s1.mothername = \"Sita\"\n",
    "s1.parents()"
   ]
  },
  {
   "cell_type": "markdown",
   "id": "b7d63fce-4e7f-4208-b885-f9d92f7556e4",
   "metadata": {},
   "source": [
    "### Multilevel Inheritance :\n",
    "In multilevel inheritance, features of the base class and the derived class are further inherited into the new derived class. This is similar to a relationship representing a child and a grandfather. "
   ]
  },
  {
   "cell_type": "code",
   "execution_count": 31,
   "id": "1fd7c7b2-15e5-457b-bf76-7a29b4a51150",
   "metadata": {},
   "outputs": [
    {
     "name": "stdout",
     "output_type": "stream",
     "text": [
      "electric car runs on electricity\n",
      "a car has 4 wheels\n",
      "vehicles are used for transportation\n"
     ]
    }
   ],
   "source": [
    "#parent class 1\n",
    "class vehicle:\n",
    "    def functioning(self):\n",
    "        print(\"vehicles are used for transportation\")\n",
    "\n",
    "#child class 1\n",
    "class car(vehicle):\n",
    "    def wheels(self):\n",
    "        print(\"a car has 4 wheels\")\n",
    "       \n",
    " #child class 2\n",
    "class electric_car(car):\n",
    "    def speciality(self):\n",
    "        print(\"electric car runs on electricity\")\n",
    "\n",
    "electric=electric_car()\n",
    "electric.speciality()\n",
    "electric.wheels()\n",
    "electric.functioning()"
   ]
  },
  {
   "cell_type": "code",
   "execution_count": 32,
   "id": "fc5a559b-57a1-426f-8aa7-55fee808abdc",
   "metadata": {},
   "outputs": [
    {
     "name": "stdout",
     "output_type": "stream",
     "text": [
      "Lal mani\n",
      "Grandfather name : Lal mani\n",
      "Father name : Rampal\n",
      "Son name : Prince\n"
     ]
    }
   ],
   "source": [
    "# Base class\n",
    " \n",
    "class Grandfather:\n",
    " \n",
    "    def __init__(self, grandfathername):\n",
    "        self.grandfathername = grandfathername\n",
    " \n",
    " # Intermediate class\n",
    " \n",
    " \n",
    "class Father(Grandfather):\n",
    "    def __init__(self, fathername, grandfathername):\n",
    "        self.fathername = fathername\n",
    " \n",
    "        # invoking constructor of Grandfather class\n",
    "        Grandfather.__init__(self, grandfathername)\n",
    " \n",
    " # Derived class\n",
    " \n",
    " \n",
    "class Son(Father):\n",
    "    def __init__(self, sonname, fathername, grandfathername):\n",
    "        self.sonname = sonname\n",
    " \n",
    "        # invoking constructor of Father class\n",
    "        Father.__init__(self, fathername, grandfathername)\n",
    " \n",
    "    def print_name(self):\n",
    "        print('Grandfather name :', self.grandfathername)\n",
    "        print(\"Father name :\", self.fathername)\n",
    "        print(\"Son name :\", self.sonname)\n",
    " \n",
    " \n",
    "#  Driver code\n",
    "s1 = Son('Prince', 'Rampal', 'Lal mani')\n",
    "print(s1.grandfathername)\n",
    "s1.print_name()"
   ]
  },
  {
   "cell_type": "markdown",
   "id": "7cc6b115-d66d-47d3-9bb4-10be15049dc7",
   "metadata": {},
   "source": [
    " ### Hierarchical Inheritance: \n",
    "When more than one derived class are created from a single base this type of inheritance is called hierarchical inheritance. In this program, we have a parent (base) class and two child (derived) classes."
   ]
  },
  {
   "cell_type": "code",
   "execution_count": 35,
   "id": "6d6b3795-f411-41c2-83ab-537ada950a0e",
   "metadata": {},
   "outputs": [
    {
     "name": "stdout",
     "output_type": "stream",
     "text": [
      "This function is in parent class.\n",
      "This function is in child 1.\n",
      "This function is in parent class.\n",
      "This function is in child 2.\n"
     ]
    }
   ],
   "source": [
    "\n",
    "# Python program to demonstrate\n",
    "# Hierarchical inheritance\n",
    " \n",
    "# Base class\n",
    "class Parent:\n",
    "    def func1(self):\n",
    "        print(\"This function is in parent class.\")\n",
    " \n",
    " # Derived class1\n",
    " \n",
    " \n",
    "class Child1(Parent):\n",
    "    def func2(self):\n",
    "        print(\"This function is in child 1.\")\n",
    " \n",
    " # Derivied class2\n",
    " \n",
    " \n",
    "class Child2(Parent):\n",
    "    def func3(self):\n",
    "        print(\"This function is in child 2.\")\n",
    " \n",
    " \n",
    "# Driver's code\n",
    "object1 = Child1()\n",
    "object2 = Child2()\n",
    "object1.func1()\n",
    "object1.func2()\n",
    "object2.func1()\n",
    "object2.func3()"
   ]
  },
  {
   "cell_type": "markdown",
   "id": "cf740b1d-bef1-4ae6-8792-cf4b8bb44d1e",
   "metadata": {},
   "source": [
    "### Hybrid Inheritance: \n",
    "Inheritance consisting of multiple types of inheritance is called hybrid inheritance.\n",
    "\n"
   ]
  },
  {
   "cell_type": "code",
   "execution_count": 36,
   "id": "ca628dfb-b846-4d16-956d-32c2275bab89",
   "metadata": {},
   "outputs": [
    {
     "name": "stdout",
     "output_type": "stream",
     "text": [
      "This function is in school.\n",
      "This function is in student 1. \n"
     ]
    }
   ],
   "source": [
    "class School:\n",
    "    def func1(self):\n",
    "        print(\"This function is in school.\")\n",
    " \n",
    " \n",
    "class Student1(School):\n",
    "    def func2(self):\n",
    "        print(\"This function is in student 1. \")\n",
    " \n",
    " \n",
    "class Student2(School):\n",
    "    def func3(self):\n",
    "        print(\"This function is in student 2.\")\n",
    " \n",
    " \n",
    "class Student3(Student1, School):\n",
    "    def func4(self):\n",
    "        print(\"This function is in student 3.\")\n",
    " \n",
    " \n",
    "# Driver's code\n",
    "object = Student3()\n",
    "object.func1()\n",
    "object.func2()"
   ]
  },
  {
   "cell_type": "markdown",
   "id": "0c71c29b-5ed3-4372-88be-535917146f85",
   "metadata": {},
   "source": [
    "#### The end"
   ]
  }
 ],
 "metadata": {
  "kernelspec": {
   "display_name": "Python 3 (ipykernel)",
   "language": "python",
   "name": "python3"
  },
  "language_info": {
   "codemirror_mode": {
    "name": "ipython",
    "version": 3
   },
   "file_extension": ".py",
   "mimetype": "text/x-python",
   "name": "python",
   "nbconvert_exporter": "python",
   "pygments_lexer": "ipython3",
   "version": "3.10.8"
  }
 },
 "nbformat": 4,
 "nbformat_minor": 5
}
